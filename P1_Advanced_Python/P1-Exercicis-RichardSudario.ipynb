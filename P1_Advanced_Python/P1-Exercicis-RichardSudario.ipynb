{
 "cells": [
  {
   "cell_type": "markdown",
   "metadata": {},
   "source": [
    "# Exercicis P1"
   ]
  },
  {
   "cell_type": "code",
   "execution_count": 3,
   "metadata": {
    "jupyter": {
     "outputs_hidden": true
    }
   },
   "outputs": [],
   "source": [
    "import numpy as np\n",
    "import pandas as pd"
   ]
  },
  {
   "cell_type": "code",
   "execution_count": null,
   "metadata": {},
   "outputs": [],
   "source": []
  },
  {
   "cell_type": "markdown",
   "metadata": {},
   "source": [
    "**Exercici 1:** La següent funció retorna el següent càlcul element a element pel vector o matriu d'entrada,\n",
    "\n",
    "$$\\begin{equation} x^2+2x+1 \\end{equation}$$"
   ]
  },
  {
   "cell_type": "code",
   "execution_count": 4,
   "metadata": {
    "tags": []
   },
   "outputs": [],
   "source": [
    "def calcular(x):\n",
    "    \"\"\"\n",
    "    Calcula, per cada element de `x` de forma individual, la funció\n",
    "    x^2+2x+1\n",
    "    \n",
    "    *NO* es poden fer servir bucles ni list-comprehensions\n",
    "    \n",
    "    :param x: np.array amb els elemnts a calcular\n",
    "    :return: np.array amb el càlcul fet\n",
    "    \"\"\"        \n",
    "    return x**2+2*x+1"
   ]
  },
  {
   "cell_type": "code",
   "execution_count": 5,
   "metadata": {
    "jupyter": {
     "outputs_hidden": false
    }
   },
   "outputs": [
    {
     "name": "stdout",
     "output_type": "stream",
     "text": [
      "[[2.36380134 1.61740004]\n",
      " [1.00742343 1.00411742]]\n"
     ]
    }
   ],
   "source": [
    "print(calcular(np.random.random((2, 2))))"
   ]
  },
  {
   "cell_type": "code",
   "execution_count": null,
   "metadata": {},
   "outputs": [],
   "source": []
  },
  {
   "cell_type": "markdown",
   "metadata": {},
   "source": [
    "**Exercici 2:** Una altra forma de normalitzar vectors és fer que la seva mitja sigui 0 i la seva desviació estàndard sigui 1. Donat un vector $x$, el vector normalitzat $\\bar{x}$ es calcula\n",
    "\n",
    "$$\\bar{x} = \\frac{x - \\mu_x}{\\sigma_x}$$\n",
    "\n",
    "On $\\mu_x$ és la mitja i $\\sigma_x$ la desviació estandard"
   ]
  },
  {
   "cell_type": "code",
   "execution_count": 6,
   "metadata": {
    "jupyter": {
     "outputs_hidden": true
    }
   },
   "outputs": [],
   "source": [
    "def normalitzar(x):\n",
    "    \"\"\"\n",
    "    Normalitza el vector d'entrada `x` segons la definició\n",
    "    anterior.\n",
    "    \n",
    "    *NO* es poden fer servir bucles ni list-comprehensions\n",
    "    \n",
    "    :param x: np.array en forma de vector (unidimensional)\n",
    "    :return: np.array en forma de vector (unidimensional)\n",
    "    \"\"\"    \n",
    "    \"\"\"\n",
    "    norm = np.linalg.norm(x)\n",
    "    return x/norm\n",
    "    \"\"\"\n",
    "    mu = np.mean(x)\n",
    "    sigma = np.std(x)\n",
    "    return (x-mu)/ sigma\n",
    "    "
   ]
  },
  {
   "cell_type": "code",
   "execution_count": 7,
   "metadata": {
    "jupyter": {
     "outputs_hidden": false
    }
   },
   "outputs": [
    {
     "name": "stdout",
     "output_type": "stream",
     "text": [
      "[ 1.06468936 -1.25510975 -1.04323864  0.14681255  1.08684649]\n"
     ]
    }
   ],
   "source": [
    "print(normalitzar(np.random.random(5)))"
   ]
  },
  {
   "cell_type": "code",
   "execution_count": 10,
   "metadata": {
    "jupyter": {
     "outputs_hidden": true
    }
   },
   "outputs": [],
   "source": [
    "def normalitzar_matriu_per_columnes(x):\n",
    "    \"\"\"\n",
    "    Normalitza, segons la definició d'abans, les columnes de la\n",
    "    matriu de forma independent (cada columna es normalitza per la seva\n",
    "    pròpia mitja i desviació estàndard)\n",
    "    \n",
    "    *NO* es poden fer servir bucles ni list-comprehensions\n",
    "    \n",
    "    :param x: np.array en forma matricial (bidimensional)\n",
    "    :return: np.array en forma matricial (bidimensional)\n",
    "    \"\"\"        \n",
    "    mu = x.mean(axis=0)\n",
    "    sigma = x.std(axis=0)\n",
    "    return (x-mu)/ sigma\n",
    "    \n",
    "    # con norm [:, np.newaxis] hacemos que la suma de las columnas este en vertical \n",
    "    # return x / norm [:, np.newaxis]"
   ]
  },
  {
   "cell_type": "code",
   "execution_count": 11,
   "metadata": {
    "jupyter": {
     "outputs_hidden": false
    }
   },
   "outputs": [
    {
     "name": "stdout",
     "output_type": "stream",
     "text": [
      "[[ 0.98385752 -1.13900178 -0.00954761 -1.05102329 -1.25472667]\n",
      " [-1.10425696  1.41968474 -0.39526939  1.01729795 -0.68551055]\n",
      " [ 1.35240028  0.93084352 -0.91994967  0.52820034  1.17810591]\n",
      " [-0.9512178  -0.8140927   1.91135495 -1.35611228  1.18024669]\n",
      " [-0.28078303 -0.39743377 -0.58658828  0.86163728 -0.41811538]]\n",
      "[ 5.55111512e-16  1.27675648e-15  0.00000000e+00 -2.22044605e-16\n",
      "  5.55111512e-17]\n"
     ]
    }
   ],
   "source": [
    "norm_matrix = normalitzar_matriu_per_columnes(np.random.random((5, 5)))\n",
    "\n",
    "print(norm_matrix)\n",
    "\n",
    "print(np.sum(norm_matrix, axis = 0))"
   ]
  },
  {
   "cell_type": "code",
   "execution_count": 14,
   "metadata": {
    "jupyter": {
     "outputs_hidden": true
    }
   },
   "outputs": [],
   "source": [
    "def normalitzar_matriu_per_files(x):\n",
    "    \"\"\"\n",
    "    Normalitza, segons la definició d'abans, les files de la\n",
    "    matriu de forma independent (cada fila es normalitza per la seva\n",
    "    pròpia mitja i desviació estàndard)\n",
    "    \n",
    "    *NO* es poden fer servir bucles ni list-comprehensions\n",
    "    \n",
    "    :param x: np.array en forma matricial (bidimensional)\n",
    "    :return: np.array en forma matricial (bidimensional)\n",
    "    \"\"\"\n",
    "    mu = x.mean(axis=1)\n",
    "    sigma = x.std(axis=1)\n",
    "    return ((x.T-mu)/ sigma).T"
   ]
  },
  {
   "cell_type": "code",
   "execution_count": 15,
   "metadata": {
    "jupyter": {
     "outputs_hidden": true
    }
   },
   "outputs": [
    {
     "name": "stdout",
     "output_type": "stream",
     "text": [
      "[[-1.54394672  0.17377946  0.67417577 -0.62393897  1.31993046]\n",
      " [ 0.79796226 -0.34765456  0.53812698 -1.810331    0.82189632]\n",
      " [ 1.32100841 -1.70225243  0.16035077 -0.28144888  0.50234213]\n",
      " [ 0.53839879  0.41660682 -1.14176834  1.36135029 -1.17458756]\n",
      " [ 0.78844984  0.91716494 -1.65722129 -0.65252865  0.60413516]]\n",
      "[-2.22044605e-16  2.10942375e-15  1.33226763e-15  1.55431223e-15\n",
      " -1.44328993e-15]\n"
     ]
    }
   ],
   "source": [
    "norm_matrix = normalitzar_matriu_per_files(np.random.random((5, 5)))\n",
    "print(norm_matrix)\n",
    "print(np.sum(norm_matrix, axis = 1))"
   ]
  },
  {
   "cell_type": "code",
   "execution_count": null,
   "metadata": {},
   "outputs": [],
   "source": []
  },
  {
   "cell_type": "markdown",
   "metadata": {},
   "source": [
    "**Exercici 3:** Calcula la mitja del vector d'entrada, però qualsevol element NaN ha de ser tractat com si fos un 0."
   ]
  },
  {
   "cell_type": "code",
   "execution_count": 32,
   "metadata": {
    "jupyter": {
     "outputs_hidden": true
    }
   },
   "outputs": [],
   "source": [
    "def calcular_mitja(x):\n",
    "    \"\"\"\n",
    "    Calcula la mitja del vector d'entrada `x`, però qualsevol element\n",
    "    NaN ha de ser tractat com si fos un 0. NO es pot modificar el\n",
    "    vector original que es passa per paràmetre\n",
    "    \n",
    "    *NO* es poden fer servir bucles ni list-comprehensions\n",
    "    \n",
    "    :param x: np.array en forma vectorial (unidimensional)\n",
    "    :return: float amb la mitja\n",
    "    \"\"\"\n",
    "    #return np.sum(np.logical_not(np.isnan(x)))/x.size\n",
    "    # return x[~np.isnan(x)].mean() No nos sirve debido a que necesitamos convertir el nan a 0"
   ]
  },
  {
   "cell_type": "code",
   "execution_count": 33,
   "metadata": {
    "jupyter": {
     "outputs_hidden": false
    }
   },
   "outputs": [
    {
     "name": "stdout",
     "output_type": "stream",
     "text": [
      "0.46421210831662063\n"
     ]
    }
   ],
   "source": [
    "vec = np.random.random(5)\n",
    "vec[np.random.randint(0, 5)] = np.nan\n",
    "print(calcular_mitja(vec))"
   ]
  },
  {
   "cell_type": "code",
   "execution_count": null,
   "metadata": {},
   "outputs": [],
   "source": []
  },
  {
   "cell_type": "markdown",
   "metadata": {},
   "source": [
    "**Exercici 4:** Crea un pd.DataFrame que contingui la informació demanada."
   ]
  },
  {
   "cell_type": "code",
   "execution_count": 2,
   "metadata": {
    "jupyter": {
     "outputs_hidden": true
    }
   },
   "outputs": [],
   "source": [
    "def crear_dataframe_1(usuari1, usuari2):\n",
    "    \"\"\"\n",
    "    Donada la informació de dos usuaris, `usuari1` i `usuari2`, crea un\n",
    "    pd.DataFrame que contingui cada un d'aquests usuaris com a una fila.\n",
    "    La primera fila ha de tenir per índex \"99\" i la segona \"88\", de tipus STR.\n",
    "    Les columnes han de tenir els següents noms:\n",
    "        \"Nom\", \"Cognom\", \"Data Registre\", \"Bitcoin\"\n",
    "        \n",
    "    :param usuari1: Llista (nativa de python) amb les dades del primer usuari\n",
    "    :param usuari2: Llista (nativa de python) amb les dades del segon usuari\n",
    "    :return: DataFrame amb les dades dels usuaris\n",
    "    \"\"\"\n",
    "    df = pd.DataFrame([usuari1, usuari2], columns = ['Nom', 'Cognom', 'Data Registre', 'Bitcoin'])\n",
    "    return df    "
   ]
  },
  {
   "cell_type": "code",
   "execution_count": 3,
   "metadata": {
    "jupyter": {
     "outputs_hidden": false
    }
   },
   "outputs": [
    {
     "name": "stdout",
     "output_type": "stream",
     "text": [
      "      Nom  Cognom Data Registre  Bitcoin\n",
      "0    Mike  Strong    2012-02-03     99.0\n",
      "1  Thomas    Weak    2018-01-01      0.4\n"
     ]
    }
   ],
   "source": [
    "print(crear_dataframe_1(\n",
    "    ['Mike', 'Strong', '2012-02-03', 99],\n",
    "    ['Thomas', 'Weak', '2018-01-01', 0.4]\n",
    "))"
   ]
  },
  {
   "cell_type": "code",
   "execution_count": 80,
   "metadata": {
    "jupyter": {
     "outputs_hidden": true
    }
   },
   "outputs": [],
   "source": [
    "def crear_dataframe_2(x, exponent):\n",
    "    \"\"\"\n",
    "    Donat un vector (np.arrray) i un exponent màxim, crea un \n",
    "    DataFrame de pandas on cada columna és la potència\n",
    "    $x^i$ per cada $i$ entre 0 i `exponent` (incloits). Les columnes han de \n",
    "    tenir per nom \"x<i>\", on <i> és la potència\n",
    "    \n",
    "    Per exemple, donat ([1, 2, 3, 4], 2), crearà\n",
    "    x0 | x1 | x2\n",
    "    ------------\n",
    "    1    1    1 \n",
    "    1    2    4\n",
    "    1    3    9\n",
    "    1    4    16\n",
    "    \n",
    "    Els indexs de les files són 0, 1, ..., n; on n és el nombre d'elements\n",
    "    a x\n",
    "    \n",
    "    **Pots fer servir 1 sol bucle per iterar de 0 a exponent, cap més**\n",
    "    \n",
    "    :param x: np.array unidimensional amb les dades per calcular potències\n",
    "    :param exponent: enter >= 0, màxim exponent a fer servir\n",
    "    :return: Un DataFrame de pandas, tal i com s'especifica\n",
    "    \"\"\"    \n",
    "    df = pd.DataFrame([]) \n",
    "    for n in range(exponent):\n",
    "        df.insert(n, 'x'+str(n),np.copy(x) ** n)\n",
    "    \n",
    "    \n",
    "    \"\"\"\n",
    "    return pd.DataFrame({\n",
    "        'x{}'.format(i): x**i for i in range(exponent+1)\n",
    "    })\n",
    "    \"\"\"\n",
    "    return df"
   ]
  },
  {
   "cell_type": "code",
   "execution_count": 81,
   "metadata": {
    "jupyter": {
     "outputs_hidden": false
    }
   },
   "outputs": [
    {
     "name": "stdout",
     "output_type": "stream",
     "text": [
      "   x0  x1  x2  x3   x4\n",
      "0   1   1   1   1    1\n",
      "1   1   2   4   8   16\n",
      "2   1   3   9  27   81\n",
      "3   1   4  16  64  256\n"
     ]
    }
   ],
   "source": [
    "print(crear_dataframe_2(np.asarray([1, 2, 3, 4]), 5))"
   ]
  },
  {
   "cell_type": "code",
   "execution_count": null,
   "metadata": {},
   "outputs": [],
   "source": []
  },
  {
   "cell_type": "markdown",
   "metadata": {},
   "source": [
    "**Exercici 5:** Donat un DataFrame, retorna el resultat de les consultes demanades."
   ]
  },
  {
   "cell_type": "code",
   "execution_count": 16,
   "metadata": {
    "jupyter": {
     "outputs_hidden": true
    }
   },
   "outputs": [],
   "source": [
    "def consultar_basic(df):\n",
    "    \"\"\"\n",
    "    Donat un DataFrame amb noms i notes, retorna solament\n",
    "    els noms d'aquells usuaris que tinguin un 5 o més\n",
    "    \n",
    "    :param df: DataFrame amb dos columnes \"Nom\", \"Nota\", amb 1 o més\n",
    "        files. \"Nom\" és una string i \"Nota\" un float\n",
    "    :return: Un pd.Series o llista/tupla de Pandas amb els noms \n",
    "        (i solament els noms) dels alumnes amb 5 o més\n",
    "    \"\"\"\n",
    "    return df.loc[df.Nota > 5].Nom\n",
    "    raise NotImplementedError()"
   ]
  },
  {
   "cell_type": "code",
   "execution_count": 17,
   "metadata": {
    "jupyter": {
     "outputs_hidden": false
    }
   },
   "outputs": [
    {
     "name": "stdout",
     "output_type": "stream",
     "text": [
      "0    Antonio\n",
      "Name: Nom, dtype: object\n"
     ]
    }
   ],
   "source": [
    "print(consultar_basic(pd.DataFrame({\n",
    "    'Nom': ['Antonio', 'Mireia'],\n",
    "    'Nota': [5.1, 0.1]\n",
    "})))"
   ]
  },
  {
   "cell_type": "code",
   "execution_count": 22,
   "metadata": {
    "jupyter": {
     "outputs_hidden": true
    }
   },
   "outputs": [],
   "source": [
    "def consultar_dificil(df):\n",
    "    \"\"\"\n",
    "    De totes les files d'un DataFrame, retorna l'índex d'aquella que tingui \n",
    "    el menor nombre de NaNs\n",
    "    \n",
    "    *Es pot fer sense bucles, consulta la documentació de Pandas, la cheetsheet\n",
    "    o stackoverflow*\n",
    "    \n",
    "    :param df: DataFrame sobre el que operar, les files contenen floats o NaN\n",
    "    :return: L'índex (int, ja ve donat) de la fila amb menys NaNs\n",
    "    \"\"\"\n",
    "    print(df.count(axis=1))\n",
    "    return df.count(axis=1).idxmax()"
   ]
  },
  {
   "cell_type": "code",
   "execution_count": 23,
   "metadata": {
    "jupyter": {
     "outputs_hidden": false
    }
   },
   "outputs": [
    {
     "name": "stdout",
     "output_type": "stream",
     "text": [
      "0    3\n",
      "1    4\n",
      "2    2\n",
      "dtype: int64\n",
      "1\n"
     ]
    }
   ],
   "source": [
    "print(consultar_dificil(pd.DataFrame([\n",
    "    [0, np.nan, 3.0, 2, np.nan],\n",
    "    [np.nan, 1, 2, 3, 4],\n",
    "    [np.nan, 0, 0, np.nan, np.nan]\n",
    "])))"
   ]
  },
  {
   "cell_type": "code",
   "execution_count": null,
   "metadata": {},
   "outputs": [],
   "source": []
  }
 ],
 "metadata": {
  "kernelspec": {
   "display_name": "Python 3",
   "language": "python",
   "name": "python3"
  },
  "language_info": {
   "codemirror_mode": {
    "name": "ipython",
    "version": 3
   },
   "file_extension": ".py",
   "mimetype": "text/x-python",
   "name": "python",
   "nbconvert_exporter": "python",
   "pygments_lexer": "ipython3",
   "version": "3.8.8"
  }
 },
 "nbformat": 4,
 "nbformat_minor": 4
}
