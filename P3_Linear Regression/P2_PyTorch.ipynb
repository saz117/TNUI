{
 "cells": [
  {
   "cell_type": "code",
   "execution_count": 7,
   "metadata": {},
   "outputs": [],
   "source": [
    "# Comprovem que torch estigui instal·lat\n",
    "try:\n",
    "    import torch\n",
    "except:\n",
    "    print('''No s\\'ha detectat torch instal·lat.\n",
    "Abans de continuar, instal·la'l. \n",
    "\n",
    "Windows / MAC:\n",
    "    pip3 install torch\n",
    "Linux:\n",
    "    pip3 install torch==1.9.1+cpu\n",
    "''')\n",
    "    raise Exception()"
   ]
  },
  {
   "cell_type": "code",
   "execution_count": 8,
   "metadata": {},
   "outputs": [],
   "source": [
    "import numpy as np\n",
    "import torch\n",
    "import matplotlib.pyplot as plt\n",
    "\n",
    "from torch_utils import grad"
   ]
  },
  {
   "cell_type": "markdown",
   "metadata": {},
   "source": [
    "# Introducció a PyTorch"
   ]
  },
  {
   "cell_type": "markdown",
   "metadata": {},
   "source": [
    "A la segona part de la pràctica farem servir la llibreria PyTorch (torch) per calcular gradients automàticament, sense haver de calcular la fòrmula cada vegada.\n",
    "\n",
    "PyTorch és molt similar a numpy. En comptes d'arrays, aquí parlem de *tensors*. \n",
    "\n",
    "Començarem creant tensors:"
   ]
  },
  {
   "cell_type": "code",
   "execution_count": 9,
   "metadata": {},
   "outputs": [
    {
     "data": {
      "text/plain": [
       "tensor([1., 1., 1., 1., 1., 1., 1., 1., 1., 1.])"
      ]
     },
     "execution_count": 9,
     "metadata": {},
     "output_type": "execute_result"
    }
   ],
   "source": [
    "torch.ones(10) # ple de 1"
   ]
  },
  {
   "cell_type": "code",
   "execution_count": 10,
   "metadata": {},
   "outputs": [
    {
     "data": {
      "text/plain": [
       "tensor([0., 0., 0., 0., 0.])"
      ]
     },
     "execution_count": 10,
     "metadata": {},
     "output_type": "execute_result"
    }
   ],
   "source": [
    "torch.zeros(5) # ple de 0"
   ]
  },
  {
   "cell_type": "code",
   "execution_count": 11,
   "metadata": {},
   "outputs": [
    {
     "data": {
      "text/plain": [
       "tensor([[7, 7],\n",
       "        [7, 7],\n",
       "        [7, 7],\n",
       "        [7, 7],\n",
       "        [7, 7]])"
      ]
     },
     "execution_count": 11,
     "metadata": {},
     "output_type": "execute_result"
    }
   ],
   "source": [
    "torch.full((5, 2), 7) # ple de 7, amb shape (5, 2)"
   ]
  },
  {
   "cell_type": "code",
   "execution_count": 12,
   "metadata": {},
   "outputs": [
    {
     "data": {
      "text/plain": [
       "tensor([5., 4., 6.])"
      ]
     },
     "execution_count": 12,
     "metadata": {},
     "output_type": "execute_result"
    }
   ],
   "source": [
    "torch.Tensor([5, 4, 6]) # creem un tensor a partir d'una llista"
   ]
  },
  {
   "cell_type": "code",
   "execution_count": 13,
   "metadata": {},
   "outputs": [
    {
     "data": {
      "text/plain": [
       "tensor([5., 4., 6.])"
      ]
     },
     "execution_count": 13,
     "metadata": {},
     "output_type": "execute_result"
    }
   ],
   "source": [
    "torch.Tensor(np.array([5, 4, 6])) # a partir d'un np.array"
   ]
  },
  {
   "cell_type": "markdown",
   "metadata": {},
   "source": [
    "Per transformar a numpy, fem servir `.numpy()`\n",
    "\n",
    "**Compte!** A vegades, quan un tensor ve com a resultat d'una sèrie d'operacions on hi participa un tensor amb requires_grad_(), per transformar a numpy necessitem fer `.detach()` primer: `.detach().numpy()`. Per tant, si surt un missatge d'error dient que necessiteu fer .detach(), feu-ho."
   ]
  },
  {
   "cell_type": "code",
   "execution_count": 14,
   "metadata": {},
   "outputs": [
    {
     "data": {
      "text/plain": [
       "array([0, 1, 2, 3, 4])"
      ]
     },
     "execution_count": 14,
     "metadata": {},
     "output_type": "execute_result"
    }
   ],
   "source": [
    "x = np.arange(5)\n",
    "\n",
    "x"
   ]
  },
  {
   "cell_type": "code",
   "execution_count": 15,
   "metadata": {},
   "outputs": [
    {
     "data": {
      "text/plain": [
       "tensor([0., 1., 2., 3., 4.])"
      ]
     },
     "execution_count": 15,
     "metadata": {},
     "output_type": "execute_result"
    }
   ],
   "source": [
    "xt = torch.Tensor(x) # noteu que per defecte transforma a tipus float, però es pot especificar\n",
    "\n",
    "xt"
   ]
  },
  {
   "cell_type": "code",
   "execution_count": 16,
   "metadata": {},
   "outputs": [
    {
     "data": {
      "text/plain": [
       "array([0., 1., 2., 3., 4.], dtype=float32)"
      ]
     },
     "execution_count": 16,
     "metadata": {},
     "output_type": "execute_result"
    }
   ],
   "source": [
    "x2 = xt.numpy()\n",
    "\n",
    "x2"
   ]
  },
  {
   "cell_type": "markdown",
   "metadata": {},
   "source": [
    "Moltes operacions a PyTorch funcionen igual que a numpy (x np.array, xt torch.Tensor):\n",
    "\n",
    "```\n",
    "x.sum() -> xt.sum()\n",
    "x.mean() -> xt.mean()\n",
    "```\n",
    "\n",
    "**Compte!** On a numpy passem un paràmetre axis, aquí passem dim.\n",
    "\n",
    "```\n",
    "x.sum(axis=1) -> xt.sum(dim=1) # sumem cada fila\n",
    "```\n",
    "\n",
    "Algunes funcions es diuen diferent, però són molt similars:\n",
    "\n",
    "```\n",
    "x.copy() -> xt.clone()\n",
    "x.reshape((5, 2)) -> xt.view(5, 2) # noteu, sense haver de passar una tupla\n",
    "np.concatenate(...) -> torch.cat(...) # concatenar arrays/tensors\n",
    "```\n",
    "\n",
    "Per canviar el tipus d'un tensor, cridem a les funcions de cada tipus:\n",
    "\n",
    "```\n",
    "x.astype(int) -> xt.int()\n",
    "x.astype(float) -> xt.float()\n",
    "x.astype(bool) -> xt.bool()\n",
    "```"
   ]
  },
  {
   "cell_type": "markdown",
   "metadata": {},
   "source": [
    "# Càlcul de gradients a PyTorch"
   ]
  },
  {
   "cell_type": "markdown",
   "metadata": {},
   "source": [
    "Al notebook anterior, donada una funció havíem de definir també la funció que retorna el seu gradient.\n",
    "\n",
    "En aquesta pràctica, però, veurem que mitjançant l'ús de la llibreria **torch** això no és necessari.\n",
    "\n",
    "Considerem les següents funcions:"
   ]
  },
  {
   "cell_type": "code",
   "execution_count": 17,
   "metadata": {},
   "outputs": [],
   "source": [
    "def f1(x):\n",
    "    return x**2\n",
    "\n",
    "def f2(x, y):\n",
    "    return x**2 + y**2\n",
    "\n",
    "def f3(x, y, z):\n",
    "    return (100 * (y - x**2)**2 + (1 - x)**2) + (100 * (z - y**2)**2 + (1 - y)**2)"
   ]
  },
  {
   "cell_type": "markdown",
   "metadata": {},
   "source": [
    "Donada la funció `f1`, podem fàcilment derivar el seu gradient, que és $2x$.\n",
    "\n",
    "Definim-lo manualment:"
   ]
  },
  {
   "cell_type": "code",
   "execution_count": 18,
   "metadata": {},
   "outputs": [],
   "source": [
    "def grad_f1_manual(x):\n",
    "    return 2 * x"
   ]
  },
  {
   "cell_type": "code",
   "execution_count": 19,
   "metadata": {},
   "outputs": [
    {
     "data": {
      "text/plain": [
       "array([ 2.42795688, -1.47471043, -0.37166076])"
      ]
     },
     "execution_count": 19,
     "metadata": {},
     "output_type": "execute_result"
    }
   ],
   "source": [
    "# Ara generarem un valor aleatori de x i calcularem el seu gradient amb la funció\n",
    "x = np.random.normal(size=3)\n",
    "g = grad_f1_manual(x)\n",
    "\n",
    "g"
   ]
  },
  {
   "cell_type": "markdown",
   "metadata": {},
   "source": [
    "Per aquest primer exemple, utilitzarem la següent funció per calcular automàticament el valor del gradient amb PyTorch. No entrarem en detalls de com funciona internament aquesta funció, simplement sapigueu que PyTorch és capaç de retornar-vos el gradient."
   ]
  },
  {
   "cell_type": "code",
   "execution_count": 20,
   "metadata": {},
   "outputs": [
    {
     "data": {
      "text/plain": [
       "(tensor([ 2.4280, -1.4747, -0.3717]),)"
      ]
     },
     "execution_count": 20,
     "metadata": {},
     "output_type": "execute_result"
    }
   ],
   "source": [
    "# Fem-ho ara amb PyTorch automàticament\n",
    "xt = torch.Tensor(x)\n",
    "\n",
    "grad(f1, xt)"
   ]
  },
  {
   "cell_type": "markdown",
   "metadata": {},
   "source": [
    "Fixeu-vos, no hem hagut de calcular cap derivada, PyTorch ja s'encarrega.\n",
    "\n",
    "De fet, les funcions que li passem poden ser tant complexes com volguem. La única limitació és que:\n",
    "\n",
    "* Utilitzem tensors de PyTorch.\n",
    "* Utilitzem només operacions de PyTorch (en comptes de np.sum, fem torch.sum)"
   ]
  },
  {
   "cell_type": "code",
   "execution_count": 21,
   "metadata": {
    "scrolled": true
   },
   "outputs": [
    {
     "data": {
      "text/plain": [
       "(tensor([-3.2380,  1.9709, -2.1692, -1.5371]),\n",
       " tensor([5.4893, 4.7243, 1.8699, 1.8249]))"
      ]
     },
     "execution_count": 21,
     "metadata": {},
     "output_type": "execute_result"
    }
   ],
   "source": [
    "# Fem-ho amb f2\n",
    "grad(f2, torch.randn(4), torch.randn(4))"
   ]
  },
  {
   "cell_type": "code",
   "execution_count": 16,
   "metadata": {},
   "outputs": [
    {
     "data": {
      "text/plain": [
       "(tensor([ 258.3517,  385.0926, -314.4390,  177.9115]),\n",
       " tensor([-1670.3774,  -203.9805,  -694.7095,   279.1673]),\n",
       " tensor([-497.2933,   62.7104, -223.7838,  -67.8866]))"
      ]
     },
     "execution_count": 16,
     "metadata": {},
     "output_type": "execute_result"
    }
   ],
   "source": [
    "# f3\n",
    "grad(f3, torch.randn(4), torch.randn(4), torch.randn(4))"
   ]
  },
  {
   "cell_type": "code",
   "execution_count": 22,
   "metadata": {},
   "outputs": [
    {
     "data": {
      "text/plain": [
       "(tensor([ 2.3684, -0.9408, -4.4093]),)"
      ]
     },
     "execution_count": 22,
     "metadata": {},
     "output_type": "execute_result"
    }
   ],
   "source": [
    "# Anem a crear una funció deliberadament molt complicada.\n",
    "def f(x):\n",
    "    # f(x) = log(|2 * e^x - 5|) si x > 0, x ** 2 - 1 sinó.\n",
    "    y = torch.zeros(x.shape[0])\n",
    "    \n",
    "    y[x > 0] = torch.log(torch.abs(2 * torch.exp(x[x > 0]) - 5))\n",
    "    y[x <= 0] = x[x <= 0] ** 2 - 1\n",
    "    \n",
    "    return y\n",
    "\n",
    "grad(f, torch.randn(3))"
   ]
  },
  {
   "cell_type": "markdown",
   "metadata": {},
   "source": [
    "# Optimització amb PyTorch"
   ]
  },
  {
   "cell_type": "markdown",
   "metadata": {},
   "source": [
    "Veieu que podem calcular gradients amb PyTorch de forma automàtica. És més, podem utilitzar diferents algorismes d'optimització directament de torch, no cal que implementem cap d'ells.\n",
    "\n",
    "Anem a calcular el mínim de les funcions f3 i f4 de la part anterior. Farem servir la funció \"train_parameters\" que trobareu al mòdul training.py a aquesta mateixa carpeta."
   ]
  },
  {
   "cell_type": "code",
   "execution_count": 23,
   "metadata": {},
   "outputs": [],
   "source": [
    "from torch import optim # al subpaquet optim tenim tots els optimitzadors\n",
    "from torch_utils import minimize"
   ]
  },
  {
   "cell_type": "code",
   "execution_count": 24,
   "metadata": {},
   "outputs": [],
   "source": [
    "def f3(x, y):\n",
    "    return x**2 + y**2\n",
    "\n",
    "def f4(x, y):\n",
    "    return 100 * (x**2 + y**2)"
   ]
  },
  {
   "cell_type": "markdown",
   "metadata": {},
   "source": [
    "Cridem a la funció train_parameters, passant-li la funció\n",
    "\"objectiu\" que volem minimitzar (loss), els inputs a optimitzar,\n",
    "l'optimizer (el mètode d'optimització) a utilitzar \n",
    "i el pas del gradient (lr)."
   ]
  },
  {
   "cell_type": "code",
   "execution_count": 25,
   "metadata": {},
   "outputs": [
    {
     "data": {
      "text/plain": [
       "(tensor([2.7495e-11]), tensor([-1.2205e-09]), tensor([1.4903e-18]))"
      ]
     },
     "execution_count": 25,
     "metadata": {},
     "output_type": "execute_result"
    },
    {
     "data": {
      "image/png": "[encoded data removed]",
      "text/plain": [
       "<Figure size 432x288 with 1 Axes>"
      ]
     },
     "metadata": {
      "needs_background": "light"
     },
     "output_type": "display_data"
    }
   ],
   "source": [
    "x, y = torch.randn(1), torch.randn(1)\n",
    "\n",
    "# Utilitzarem l'optimizer SGD = Stochastic Gradient Descent\n",
    "x, y = minimize(f3, x, y, optimizer=optim.SGD, lr=1e-2)\n",
    "\n",
    "x, y, f3(x, y)"
   ]
  },
  {
   "cell_type": "markdown",
   "metadata": {},
   "source": [
    "Recordeu que si el pas (lr) és de 1e-2, f4 es quedarà atascada amb un Gradient Descent pur."
   ]
  },
  {
   "cell_type": "code",
   "execution_count": 27,
   "metadata": {},
   "outputs": [
    {
     "data": {
      "text/plain": [
       "(tensor([-0.9478]), tensor([-1.4387]), tensor([296.8055]))"
      ]
     },
     "execution_count": 27,
     "metadata": {},
     "output_type": "execute_result"
    },
    {
     "data": {
      "image/png": "[encoded data removed]",
      "text/plain": [
       "<Figure size 432x288 with 1 Axes>"
      ]
     },
     "metadata": {
      "needs_background": "light"
     },
     "output_type": "display_data"
    }
   ],
   "source": [
    "x, y = torch.randn(1), torch.randn(1)\n",
    "\n",
    "# Utilitzarem l'optimizer SGD = Stochastic Gradient Descent\n",
    "x, y = minimize(f4, x, y, optimizer=optim.SGD, lr=1e-2)\n",
    "\n",
    "x, y, f4(x, y)"
   ]
  },
  {
   "cell_type": "markdown",
   "metadata": {},
   "source": [
    "Amb PyTorch podem utilitzar altres optimizers de torch.optim que esquiven aquest tipus de problemes. Un dels més utilitzats és Adam:"
   ]
  },
  {
   "cell_type": "code",
   "execution_count": 29,
   "metadata": {},
   "outputs": [
    {
     "data": {
      "text/plain": [
       "(tensor([-1.5540e-05]), tensor([1.4454e-24]), tensor([2.4150e-10]))"
      ]
     },
     "execution_count": 29,
     "metadata": {},
     "output_type": "execute_result"
    },
    {
     "data": {
      "image/png": "[encoded data removed]",
      "text/plain": [
       "<Figure size 432x288 with 1 Axes>"
      ]
     },
     "metadata": {
      "needs_background": "light"
     },
     "output_type": "display_data"
    }
   ],
   "source": [
    "x, y = torch.randn(1), torch.randn(1)\n",
    "\n",
    "x, y = minimize(f3, x, y, optimizer=optim.Adam, lr=1e-2)\n",
    "x, y, f3(x, y)"
   ]
  },
  {
   "cell_type": "code",
   "execution_count": 31,
   "metadata": {},
   "outputs": [
    {
     "data": {
      "text/plain": [
       "(tensor([3.2918e-24]), tensor([1.8413e-11]), tensor([3.3902e-20]))"
      ]
     },
     "execution_count": 31,
     "metadata": {},
     "output_type": "execute_result"
    },
    {
     "data": {
      "image/png": "[encoded data removed]",
      "text/plain": [
       "<Figure size 432x288 with 1 Axes>"
      ]
     },
     "metadata": {
      "needs_background": "light"
     },
     "output_type": "display_data"
    }
   ],
   "source": [
    "x, y = torch.randn(1), torch.randn(1)\n",
    "\n",
    "x, y = minimize(f4, x, y, optimizer=optim.Adam, lr=1e-2)\n",
    "x, y, f4(x, y)"
   ]
  },
  {
   "cell_type": "markdown",
   "metadata": {},
   "source": [
    "En definitiva, podem utilitzar PyTorch tant per calcular els gradients automàticament com per fer les optimitzacions que volguem. En un cas real, no cal que implementeu vosaltres mateixos l'algorisme optimitzador, el càlcul del gradient, ni res similar.\n",
    "\n",
    "Al següent notebook farem servir PyTorch per entrenar un model predictor."
   ]
  }
 ],
 "metadata": {
  "kernelspec": {
   "display_name": "Python 3",
   "language": "python",
   "name": "python3"
  },
  "language_info": {
   "codemirror_mode": {
    "name": "ipython",
    "version": 3
   },
   "file_extension": ".py",
   "mimetype": "text/x-python",
   "name": "python",
   "nbconvert_exporter": "python",
   "pygments_lexer": "ipython3",
   "version": "3.8.8"
  }
 },
 "nbformat": 4,
 "nbformat_minor": 2
}
